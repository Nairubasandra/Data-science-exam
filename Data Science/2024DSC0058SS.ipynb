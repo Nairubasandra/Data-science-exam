{
 "cells": [
  {
   "cell_type": "markdown",
   "id": "1a3c1853-dbc4-4877-b709-86cb097fece8",
   "metadata": {},
   "source": [
    "## QUESTION 4 bonus Question"
   ]
  },
  {
   "cell_type": "markdown",
   "id": "fb1449ab-eb15-4e04-a05c-5fa9613ad01f",
   "metadata": {},
   "source": [
    "# a)"
   ]
  },
  {
   "cell_type": "code",
   "execution_count": 1,
   "id": "ffd5998a-99eb-44c8-8e11-97151a1342c9",
   "metadata": {},
   "outputs": [],
   "source": [
    "import numpy as np\n",
    " "
   ]
  },
  {
   "cell_type": "markdown",
   "id": "451e16f0-46a5-4bb1-8ada-7716eed4af27",
   "metadata": {},
   "source": [
    "# create a 5x3 and 3x2 and mutiply them\r\n"
   ]
  },
  {
   "cell_type": "code",
   "execution_count": 5,
   "id": "1bbbb1ab-65d2-4185-ad6c-da86bfa32886",
   "metadata": {},
   "outputs": [
    {
     "name": "stdout",
     "output_type": "stream",
     "text": [
      "[[1 2 3]\n",
      " [1 4 5]\n",
      " [2 0 2]\n",
      " [4 0 2]\n",
      " [7 1 2]]\n"
     ]
    }
   ],
   "source": [
    "matrixA = np.array([[1,2,3],[1,4,5],[2,0,2],[4,0,2],[7,1,2]])\n",
    "print(matrixA)    # create number of my own choice but considering the 5x3 matrix form"
   ]
  },
  {
   "cell_type": "code",
   "execution_count": 6,
   "id": "779a4b2e-0ef5-469e-b512-03f0f6e8db9e",
   "metadata": {},
   "outputs": [
    {
     "name": "stdout",
     "output_type": "stream",
     "text": [
      "[[1 2]\n",
      " [1 3]\n",
      " [4 1]]\n"
     ]
    }
   ],
   "source": [
    "matrixB = np.array([[1,2],[1,3],[4,1]])\n",
    "print(matrixB)        # create  random number but considering a  3x2 matrix"
   ]
  },
  {
   "cell_type": "code",
   "execution_count": 7,
   "id": "b997a11a-7d04-4ba3-aab9-0f421699ef74",
   "metadata": {},
   "outputs": [
    {
     "name": "stdout",
     "output_type": "stream",
     "text": [
      "[[15 11]\n",
      " [25 19]\n",
      " [10  6]\n",
      " [12 10]\n",
      " [16 19]]\n"
     ]
    }
   ],
   "source": [
    "multiply = np.dot(matrixA,matrixB)\n",
    "print(multiply)   # To multiply these to matrices we use the .dot and put the two matrices in a single bracket"
   ]
  },
  {
   "cell_type": "markdown",
   "id": "78b57dbb-3d14-44e7-9eb5-b15bf123d09e",
   "metadata": {},
   "source": [
    "# b) creating a 3*3 identity matrix"
   ]
  },
  {
   "cell_type": "code",
   "execution_count": 8,
   "id": "1579bbfa-2624-43bd-a39b-0d2c4aaadd15",
   "metadata": {},
   "outputs": [
    {
     "name": "stdout",
     "output_type": "stream",
     "text": [
      "[[0 1 0]\n",
      " [1 0 1]\n",
      " [0 1 0]]\n"
     ]
    }
   ],
   "source": [
    "x = np.array([[0,1,0],[1,0,1],[0,1,0]])\n",
    "print(x)     # When dealing with identity matrix we consider zeros and ones(1,0) but following the order "
   ]
  },
  {
   "cell_type": "markdown",
   "id": "9d5ed3bc-4db6-41eb-ab74-fdb42133ba77",
   "metadata": {},
   "source": [
    "# c) vector with values ranging from 10 to 49"
   ]
  },
  {
   "cell_type": "code",
   "execution_count": 9,
   "id": "ace5e3f5-5cdd-44ac-9259-bc6fa7b13e72",
   "metadata": {},
   "outputs": [
    {
     "name": "stdout",
     "output_type": "stream",
     "text": [
      "[10 11 12 13 14 15 16 17 18 19 20 21 22 23 24 25 26 27 28 29 30 31 32 33\n",
      " 34 35 36 37 38 39 40 41 42 43 44 45 46 47 48 49]\n"
     ]
    }
   ],
   "source": [
    "vector = np.arange(10,50)\n",
    "print(vector)     # We use the arange attribute inorder to get the range of values "
   ]
  },
  {
   "cell_type": "markdown",
   "id": "99fff5a7-e6f4-4f36-b6c1-19d0fdd44564",
   "metadata": {},
   "source": [
    "# d) A null vector with size 10"
   ]
  },
  {
   "cell_type": "code",
   "execution_count": 10,
   "id": "1256b1bc-b7a0-4e0c-94ed-160e3ca33737",
   "metadata": {},
   "outputs": [
    {
     "name": "stdout",
     "output_type": "stream",
     "text": [
      "[0. 0. 0. 0. 0. 0. 0. 0. 0. 0.]\n"
     ]
    }
   ],
   "source": [
    "vectornull = np.zeros(10)\n",
    "print(vectornull)   # null mainly deals with 0 therefore to handle this we use the .zeros"
   ]
  },
  {
   "cell_type": "markdown",
   "id": "9f81d70f-c685-41bc-b3d4-8ccc4f88bca8",
   "metadata": {},
   "source": [
    "# e) create 3x3x3 array with random values"
   ]
  },
  {
   "cell_type": "code",
   "execution_count": 25,
   "id": "81b4a213-6adc-45e5-84d1-5802c0f8571b",
   "metadata": {},
   "outputs": [
    {
     "name": "stdout",
     "output_type": "stream",
     "text": [
      "[[[-0.28073223 -1.65220131 -0.52599569]\n",
      "  [-3.29918797 -0.7331465   1.27265851]\n",
      "  [ 0.03129684 -0.73840918 -0.58265127]]\n",
      "\n",
      " [[ 0.70489625  1.69757468 -2.75364015]\n",
      "  [-0.41105284  0.33267065  0.13170497]\n",
      "  [ 1.4825007  -0.21104752  1.03713017]]\n",
      "\n",
      " [[-0.37533487 -0.57502959  0.4732187 ]\n",
      "  [ 0.55298569  1.11897077  1.09108987]\n",
      "  [-0.6554502  -0.70548314  1.11318063]]]\n"
     ]
    }
   ],
   "source": [
    "from numpy import random\n",
    "x = random.normal(size=(3,3,3))\n",
    "print(x)    # with random we can use any variable from math"
   ]
  },
  {
   "cell_type": "markdown",
   "id": "89656387-b422-44b6-9bd5-3ca2e76bb8b2",
   "metadata": {},
   "source": [
    "# f)5x5 matrix with values 1,2,3,4below the diagonal"
   ]
  },
  {
   "cell_type": "code",
   "execution_count": 13,
   "id": "7522393d-f12f-41cb-9b67-e450035f6dc4",
   "metadata": {},
   "outputs": [],
   "source": [
    "matrix = np.zeros((5,5),dtype=int)"
   ]
  },
  {
   "cell_type": "code",
   "execution_count": 14,
   "id": "facf664c-77f8-4e69-bea4-f85e9b58d831",
   "metadata": {},
   "outputs": [
    {
     "name": "stdout",
     "output_type": "stream",
     "text": [
      "[[0 0 0 0 0]\n",
      " [1 0 0 0 0]\n",
      " [0 2 0 0 0]\n",
      " [0 0 3 0 0]\n",
      " [0 0 0 4 0]]\n"
     ]
    }
   ],
   "source": [
    "mattrix = np.fill_diagonal(matrix[1:], [1, 2, 3, 4])\n",
    "print(matrix)\n",
    "# number below the diagonal means that 1,2,3,4 should be below or down the zeros of the diagonal"
   ]
  },
  {
   "cell_type": "markdown",
   "id": "d5938a74-ee82-4d7c-b5e0-d39df498bf94",
   "metadata": {},
   "source": [
    "# g) Normalise a 5x5 random matrix"
   ]
  },
  {
   "cell_type": "code",
   "execution_count": 26,
   "id": "df2b493f-23e8-4970-8434-2b4cbb467edb",
   "metadata": {},
   "outputs": [
    {
     "name": "stdout",
     "output_type": "stream",
     "text": [
      "[[ 0.57702678  0.62023414  1.73913363  1.88324613  0.19800402]\n",
      " [ 0.64365926  0.16790856  1.41348908 -0.57741184  1.60554022]\n",
      " [-0.20109164  0.47552057 -1.44024243 -0.41476884  1.51594534]\n",
      " [-1.14451462 -1.94744299  0.15740346  1.16884136  0.7743636 ]\n",
      " [-0.38578516 -0.3102284  -0.29685404 -0.28608115  0.79785728]]\n"
     ]
    }
   ],
   "source": [
    "from numpy import  random\n",
    "x = random.normal(size =(5,5))\n",
    "print(x)     # We should consider normal distribution with size 5x5"
   ]
  },
  {
   "cell_type": "markdown",
   "id": "3df16ce1-f129-4303-87a6-2d6517b51b30",
   "metadata": {},
   "source": [
    "# h) How to get the dates of yesterday,today and tomorrow"
   ]
  },
  {
   "cell_type": "code",
   "execution_count": 17,
   "id": "5d257339-2191-44ee-ac55-ae891e324745",
   "metadata": {},
   "outputs": [],
   "source": [
    "import numpy as np"
   ]
  },
  {
   "cell_type": "code",
   "execution_count": 18,
   "id": "513ab0e9-6e86-44ce-b3ea-9bad26627441",
   "metadata": {},
   "outputs": [
    {
     "name": "stdout",
     "output_type": "stream",
     "text": [
      "2024-12-10\n"
     ]
    }
   ],
   "source": [
    "today = np.datetime64('today','D')\n",
    "print(today)"
   ]
  },
  {
   "cell_type": "code",
   "execution_count": 19,
   "id": "c5b04cc4-df33-4fde-b5cc-a3b01cfc9720",
   "metadata": {},
   "outputs": [
    {
     "name": "stdout",
     "output_type": "stream",
     "text": [
      "2024-12-09\n"
     ]
    }
   ],
   "source": [
    "yesterday = today-np.timedelta64(1,'D')\n",
    "print(yesterday) # to calculate and obtain yesterdays date we get today and subtract it with the current date"
   ]
  },
  {
   "cell_type": "code",
   "execution_count": 20,
   "id": "04416b71-d8f2-4769-8434-5dee14155b5c",
   "metadata": {},
   "outputs": [
    {
     "name": "stdout",
     "output_type": "stream",
     "text": [
      "2024-12-11\n"
     ]
    }
   ],
   "source": [
    "tomorrow = today + np.timedelta64(1,'D')\n",
    "print(tomorrow) # incase of printing tomorrows date we add today plus one day to come but using its code"
   ]
  },
  {
   "cell_type": "markdown",
   "id": "340b82ef-9061-403a-913c-db9e6010a6b9",
   "metadata": {},
   "source": [
    "# i) Indices of non-zero elements from [1,2,0,0,4,0]"
   ]
  },
  {
   "cell_type": "code",
   "execution_count": 23,
   "id": "49ac3d7e-e71d-45fb-b763-1311ba9f141c",
   "metadata": {},
   "outputs": [
    {
     "name": "stdout",
     "output_type": "stream",
     "text": [
      "[0 1 4]\n"
     ]
    }
   ],
   "source": [
    "import numpy as np\n",
    "x= np.array([1, 2, 0, 0, 4, 0])\n",
    "non_zero_indices = np.nonzero(x)\n",
    "print( non_zero_indices[0])\n",
    "# non zero indices helps to determine values with no zeros"
   ]
  },
  {
   "cell_type": "markdown",
   "id": "e5a7ced1-4700-47b2-942c-81f8f61483f6",
   "metadata": {},
   "source": [
    "## Question 2"
   ]
  },
  {
   "cell_type": "markdown",
   "id": "eca1e922-8f70-46c0-8a36-2f487234bdc3",
   "metadata": {},
   "source": [
    "# a)"
   ]
  },
  {
   "cell_type": "code",
   "execution_count": 27,
   "id": "9c538dd8-e210-4e7d-8d32-c7ae332aab23",
   "metadata": {},
   "outputs": [],
   "source": [
    "import numpy as np\n",
    "import pandas as pd\n",
    "import matplotlib as plt\n",
    "import seaborn as sns"
   ]
  },
  {
   "cell_type": "code",
   "execution_count": 29,
   "id": "bdbca241-44b9-4710-96e8-7e3abad41276",
   "metadata": {},
   "outputs": [
    {
     "data": {
      "text/html": [
       "<div>\n",
       "<style scoped>\n",
       "    .dataframe tbody tr th:only-of-type {\n",
       "        vertical-align: middle;\n",
       "    }\n",
       "\n",
       "    .dataframe tbody tr th {\n",
       "        vertical-align: top;\n",
       "    }\n",
       "\n",
       "    .dataframe thead th {\n",
       "        text-align: right;\n",
       "    }\n",
       "</style>\n",
       "<table border=\"1\" class=\"dataframe\">\n",
       "  <thead>\n",
       "    <tr style=\"text-align: right;\">\n",
       "      <th></th>\n",
       "      <th>StudentID</th>\n",
       "      <th>Gender</th>\n",
       "      <th>Age</th>\n",
       "      <th>StudyHoursPerWeek</th>\n",
       "      <th>AttendanceRate</th>\n",
       "      <th>GPA</th>\n",
       "      <th>Major</th>\n",
       "      <th>PartTimeJob</th>\n",
       "      <th>ExtraCurricularActivities</th>\n",
       "    </tr>\n",
       "  </thead>\n",
       "  <tbody>\n",
       "    <tr>\n",
       "      <th>0</th>\n",
       "      <td>1</td>\n",
       "      <td>Male</td>\n",
       "      <td>24</td>\n",
       "      <td>37</td>\n",
       "      <td>90.75</td>\n",
       "      <td>3.47</td>\n",
       "      <td>Arts</td>\n",
       "      <td>Yes</td>\n",
       "      <td>No</td>\n",
       "    </tr>\n",
       "    <tr>\n",
       "      <th>1</th>\n",
       "      <td>2</td>\n",
       "      <td>Female</td>\n",
       "      <td>22</td>\n",
       "      <td>37</td>\n",
       "      <td>74.90</td>\n",
       "      <td>2.32</td>\n",
       "      <td>Education</td>\n",
       "      <td>No</td>\n",
       "      <td>No</td>\n",
       "    </tr>\n",
       "    <tr>\n",
       "      <th>2</th>\n",
       "      <td>3</td>\n",
       "      <td>Male</td>\n",
       "      <td>22</td>\n",
       "      <td>10</td>\n",
       "      <td>53.36</td>\n",
       "      <td>2.38</td>\n",
       "      <td>Business</td>\n",
       "      <td>No</td>\n",
       "      <td>No</td>\n",
       "    </tr>\n",
       "    <tr>\n",
       "      <th>3</th>\n",
       "      <td>4</td>\n",
       "      <td>Male</td>\n",
       "      <td>24</td>\n",
       "      <td>10</td>\n",
       "      <td>70.26</td>\n",
       "      <td>3.46</td>\n",
       "      <td>Science</td>\n",
       "      <td>Yes</td>\n",
       "      <td>No</td>\n",
       "    </tr>\n",
       "    <tr>\n",
       "      <th>4</th>\n",
       "      <td>5</td>\n",
       "      <td>Male</td>\n",
       "      <td>18</td>\n",
       "      <td>19</td>\n",
       "      <td>74.87</td>\n",
       "      <td>2.31</td>\n",
       "      <td>Education</td>\n",
       "      <td>Yes</td>\n",
       "      <td>No</td>\n",
       "    </tr>\n",
       "    <tr>\n",
       "      <th>...</th>\n",
       "      <td>...</td>\n",
       "      <td>...</td>\n",
       "      <td>...</td>\n",
       "      <td>...</td>\n",
       "      <td>...</td>\n",
       "      <td>...</td>\n",
       "      <td>...</td>\n",
       "      <td>...</td>\n",
       "      <td>...</td>\n",
       "    </tr>\n",
       "    <tr>\n",
       "      <th>495</th>\n",
       "      <td>496</td>\n",
       "      <td>Male</td>\n",
       "      <td>22</td>\n",
       "      <td>37</td>\n",
       "      <td>76.61</td>\n",
       "      <td>2.97</td>\n",
       "      <td>Science</td>\n",
       "      <td>No</td>\n",
       "      <td>No</td>\n",
       "    </tr>\n",
       "    <tr>\n",
       "      <th>496</th>\n",
       "      <td>497</td>\n",
       "      <td>Male</td>\n",
       "      <td>23</td>\n",
       "      <td>11</td>\n",
       "      <td>56.29</td>\n",
       "      <td>3.20</td>\n",
       "      <td>Science</td>\n",
       "      <td>No</td>\n",
       "      <td>No</td>\n",
       "    </tr>\n",
       "    <tr>\n",
       "      <th>497</th>\n",
       "      <td>498</td>\n",
       "      <td>Female</td>\n",
       "      <td>20</td>\n",
       "      <td>6</td>\n",
       "      <td>56.64</td>\n",
       "      <td>3.20</td>\n",
       "      <td>Science</td>\n",
       "      <td>No</td>\n",
       "      <td>Yes</td>\n",
       "    </tr>\n",
       "    <tr>\n",
       "      <th>498</th>\n",
       "      <td>499</td>\n",
       "      <td>Male</td>\n",
       "      <td>22</td>\n",
       "      <td>18</td>\n",
       "      <td>57.18</td>\n",
       "      <td>2.05</td>\n",
       "      <td>Business</td>\n",
       "      <td>No</td>\n",
       "      <td>Yes</td>\n",
       "    </tr>\n",
       "    <tr>\n",
       "      <th>499</th>\n",
       "      <td>500</td>\n",
       "      <td>Female</td>\n",
       "      <td>24</td>\n",
       "      <td>21</td>\n",
       "      <td>96.99</td>\n",
       "      <td>2.64</td>\n",
       "      <td>Engineering</td>\n",
       "      <td>No</td>\n",
       "      <td>No</td>\n",
       "    </tr>\n",
       "  </tbody>\n",
       "</table>\n",
       "<p>500 rows × 9 columns</p>\n",
       "</div>"
      ],
      "text/plain": [
       "     StudentID  Gender  Age  StudyHoursPerWeek  AttendanceRate   GPA  \\\n",
       "0            1    Male   24                 37           90.75  3.47   \n",
       "1            2  Female   22                 37           74.90  2.32   \n",
       "2            3    Male   22                 10           53.36  2.38   \n",
       "3            4    Male   24                 10           70.26  3.46   \n",
       "4            5    Male   18                 19           74.87  2.31   \n",
       "..         ...     ...  ...                ...             ...   ...   \n",
       "495        496    Male   22                 37           76.61  2.97   \n",
       "496        497    Male   23                 11           56.29  3.20   \n",
       "497        498  Female   20                  6           56.64  3.20   \n",
       "498        499    Male   22                 18           57.18  2.05   \n",
       "499        500  Female   24                 21           96.99  2.64   \n",
       "\n",
       "           Major PartTimeJob ExtraCurricularActivities  \n",
       "0           Arts         Yes                        No  \n",
       "1      Education          No                        No  \n",
       "2       Business          No                        No  \n",
       "3        Science         Yes                        No  \n",
       "4      Education         Yes                        No  \n",
       "..           ...         ...                       ...  \n",
       "495      Science          No                        No  \n",
       "496      Science          No                        No  \n",
       "497      Science          No                       Yes  \n",
       "498     Business          No                       Yes  \n",
       "499  Engineering          No                        No  \n",
       "\n",
       "[500 rows x 9 columns]"
      ]
     },
     "execution_count": 29,
     "metadata": {},
     "output_type": "execute_result"
    }
   ],
   "source": [
    "student_df = pd.read_csv(\"student_performance_data.xls\")\n",
    "student_df  # we can import the data set of student performance using the read.csv"
   ]
  },
  {
   "cell_type": "code",
   "execution_count": 30,
   "id": "1813ac3f-221d-4b58-a6f5-f4b857cf07dd",
   "metadata": {},
   "outputs": [
    {
     "data": {
      "text/html": [
       "<div>\n",
       "<style scoped>\n",
       "    .dataframe tbody tr th:only-of-type {\n",
       "        vertical-align: middle;\n",
       "    }\n",
       "\n",
       "    .dataframe tbody tr th {\n",
       "        vertical-align: top;\n",
       "    }\n",
       "\n",
       "    .dataframe thead th {\n",
       "        text-align: right;\n",
       "    }\n",
       "</style>\n",
       "<table border=\"1\" class=\"dataframe\">\n",
       "  <thead>\n",
       "    <tr style=\"text-align: right;\">\n",
       "      <th></th>\n",
       "      <th>StudentID</th>\n",
       "      <th>Gender</th>\n",
       "      <th>Age</th>\n",
       "      <th>StudyHoursPerWeek</th>\n",
       "      <th>AttendanceRate</th>\n",
       "      <th>GPA</th>\n",
       "      <th>Major</th>\n",
       "      <th>PartTimeJob</th>\n",
       "      <th>ExtraCurricularActivities</th>\n",
       "    </tr>\n",
       "  </thead>\n",
       "  <tbody>\n",
       "    <tr>\n",
       "      <th>0</th>\n",
       "      <td>1</td>\n",
       "      <td>Male</td>\n",
       "      <td>24</td>\n",
       "      <td>37</td>\n",
       "      <td>90.75</td>\n",
       "      <td>3.47</td>\n",
       "      <td>Arts</td>\n",
       "      <td>Yes</td>\n",
       "      <td>No</td>\n",
       "    </tr>\n",
       "    <tr>\n",
       "      <th>1</th>\n",
       "      <td>2</td>\n",
       "      <td>Female</td>\n",
       "      <td>22</td>\n",
       "      <td>37</td>\n",
       "      <td>74.90</td>\n",
       "      <td>2.32</td>\n",
       "      <td>Education</td>\n",
       "      <td>No</td>\n",
       "      <td>No</td>\n",
       "    </tr>\n",
       "    <tr>\n",
       "      <th>2</th>\n",
       "      <td>3</td>\n",
       "      <td>Male</td>\n",
       "      <td>22</td>\n",
       "      <td>10</td>\n",
       "      <td>53.36</td>\n",
       "      <td>2.38</td>\n",
       "      <td>Business</td>\n",
       "      <td>No</td>\n",
       "      <td>No</td>\n",
       "    </tr>\n",
       "    <tr>\n",
       "      <th>3</th>\n",
       "      <td>4</td>\n",
       "      <td>Male</td>\n",
       "      <td>24</td>\n",
       "      <td>10</td>\n",
       "      <td>70.26</td>\n",
       "      <td>3.46</td>\n",
       "      <td>Science</td>\n",
       "      <td>Yes</td>\n",
       "      <td>No</td>\n",
       "    </tr>\n",
       "    <tr>\n",
       "      <th>4</th>\n",
       "      <td>5</td>\n",
       "      <td>Male</td>\n",
       "      <td>18</td>\n",
       "      <td>19</td>\n",
       "      <td>74.87</td>\n",
       "      <td>2.31</td>\n",
       "      <td>Education</td>\n",
       "      <td>Yes</td>\n",
       "      <td>No</td>\n",
       "    </tr>\n",
       "  </tbody>\n",
       "</table>\n",
       "</div>"
      ],
      "text/plain": [
       "   StudentID  Gender  Age  StudyHoursPerWeek  AttendanceRate   GPA      Major  \\\n",
       "0          1    Male   24                 37           90.75  3.47       Arts   \n",
       "1          2  Female   22                 37           74.90  2.32  Education   \n",
       "2          3    Male   22                 10           53.36  2.38   Business   \n",
       "3          4    Male   24                 10           70.26  3.46    Science   \n",
       "4          5    Male   18                 19           74.87  2.31  Education   \n",
       "\n",
       "  PartTimeJob ExtraCurricularActivities  \n",
       "0         Yes                        No  \n",
       "1          No                        No  \n",
       "2          No                        No  \n",
       "3         Yes                        No  \n",
       "4         Yes                        No  "
      ]
     },
     "execution_count": 30,
     "metadata": {},
     "output_type": "execute_result"
    }
   ],
   "source": [
    "student_df.head() # .head heads to output the first five columns of the dataset"
   ]
  },
  {
   "cell_type": "code",
   "execution_count": 31,
   "id": "08a2a538-f62b-42e7-9d46-9ae3ea92175e",
   "metadata": {},
   "outputs": [
    {
     "data": {
      "text/html": [
       "<div>\n",
       "<style scoped>\n",
       "    .dataframe tbody tr th:only-of-type {\n",
       "        vertical-align: middle;\n",
       "    }\n",
       "\n",
       "    .dataframe tbody tr th {\n",
       "        vertical-align: top;\n",
       "    }\n",
       "\n",
       "    .dataframe thead th {\n",
       "        text-align: right;\n",
       "    }\n",
       "</style>\n",
       "<table border=\"1\" class=\"dataframe\">\n",
       "  <thead>\n",
       "    <tr style=\"text-align: right;\">\n",
       "      <th></th>\n",
       "      <th>StudentID</th>\n",
       "      <th>Gender</th>\n",
       "      <th>Age</th>\n",
       "      <th>StudyHoursPerWeek</th>\n",
       "      <th>AttendanceRate</th>\n",
       "      <th>GPA</th>\n",
       "      <th>Major</th>\n",
       "      <th>PartTimeJob</th>\n",
       "      <th>ExtraCurricularActivities</th>\n",
       "    </tr>\n",
       "  </thead>\n",
       "  <tbody>\n",
       "    <tr>\n",
       "      <th>495</th>\n",
       "      <td>496</td>\n",
       "      <td>Male</td>\n",
       "      <td>22</td>\n",
       "      <td>37</td>\n",
       "      <td>76.61</td>\n",
       "      <td>2.97</td>\n",
       "      <td>Science</td>\n",
       "      <td>No</td>\n",
       "      <td>No</td>\n",
       "    </tr>\n",
       "    <tr>\n",
       "      <th>496</th>\n",
       "      <td>497</td>\n",
       "      <td>Male</td>\n",
       "      <td>23</td>\n",
       "      <td>11</td>\n",
       "      <td>56.29</td>\n",
       "      <td>3.20</td>\n",
       "      <td>Science</td>\n",
       "      <td>No</td>\n",
       "      <td>No</td>\n",
       "    </tr>\n",
       "    <tr>\n",
       "      <th>497</th>\n",
       "      <td>498</td>\n",
       "      <td>Female</td>\n",
       "      <td>20</td>\n",
       "      <td>6</td>\n",
       "      <td>56.64</td>\n",
       "      <td>3.20</td>\n",
       "      <td>Science</td>\n",
       "      <td>No</td>\n",
       "      <td>Yes</td>\n",
       "    </tr>\n",
       "    <tr>\n",
       "      <th>498</th>\n",
       "      <td>499</td>\n",
       "      <td>Male</td>\n",
       "      <td>22</td>\n",
       "      <td>18</td>\n",
       "      <td>57.18</td>\n",
       "      <td>2.05</td>\n",
       "      <td>Business</td>\n",
       "      <td>No</td>\n",
       "      <td>Yes</td>\n",
       "    </tr>\n",
       "    <tr>\n",
       "      <th>499</th>\n",
       "      <td>500</td>\n",
       "      <td>Female</td>\n",
       "      <td>24</td>\n",
       "      <td>21</td>\n",
       "      <td>96.99</td>\n",
       "      <td>2.64</td>\n",
       "      <td>Engineering</td>\n",
       "      <td>No</td>\n",
       "      <td>No</td>\n",
       "    </tr>\n",
       "  </tbody>\n",
       "</table>\n",
       "</div>"
      ],
      "text/plain": [
       "     StudentID  Gender  Age  StudyHoursPerWeek  AttendanceRate   GPA  \\\n",
       "495        496    Male   22                 37           76.61  2.97   \n",
       "496        497    Male   23                 11           56.29  3.20   \n",
       "497        498  Female   20                  6           56.64  3.20   \n",
       "498        499    Male   22                 18           57.18  2.05   \n",
       "499        500  Female   24                 21           96.99  2.64   \n",
       "\n",
       "           Major PartTimeJob ExtraCurricularActivities  \n",
       "495      Science          No                        No  \n",
       "496      Science          No                        No  \n",
       "497      Science          No                       Yes  \n",
       "498     Business          No                       Yes  \n",
       "499  Engineering          No                        No  "
      ]
     },
     "execution_count": 31,
     "metadata": {},
     "output_type": "execute_result"
    }
   ],
   "source": [
    "student_df.tail()  # .tail helps to output the last five columns of the dataset and incase any digit is passed inside the parameters its the output it produces"
   ]
  },
  {
   "cell_type": "code",
   "execution_count": 32,
   "id": "6748e8c6-bd03-448c-8699-8aa26ca03656",
   "metadata": {},
   "outputs": [
    {
     "data": {
      "text/html": [
       "<div>\n",
       "<style scoped>\n",
       "    .dataframe tbody tr th:only-of-type {\n",
       "        vertical-align: middle;\n",
       "    }\n",
       "\n",
       "    .dataframe tbody tr th {\n",
       "        vertical-align: top;\n",
       "    }\n",
       "\n",
       "    .dataframe thead th {\n",
       "        text-align: right;\n",
       "    }\n",
       "</style>\n",
       "<table border=\"1\" class=\"dataframe\">\n",
       "  <thead>\n",
       "    <tr style=\"text-align: right;\">\n",
       "      <th></th>\n",
       "      <th>Gender</th>\n",
       "      <th>Major</th>\n",
       "      <th>StudyHoursPerWeek</th>\n",
       "    </tr>\n",
       "  </thead>\n",
       "  <tbody>\n",
       "    <tr>\n",
       "      <th>0</th>\n",
       "      <td>Female</td>\n",
       "      <td>Arts</td>\n",
       "      <td>1070</td>\n",
       "    </tr>\n",
       "    <tr>\n",
       "      <th>1</th>\n",
       "      <td>Female</td>\n",
       "      <td>Business</td>\n",
       "      <td>1229</td>\n",
       "    </tr>\n",
       "    <tr>\n",
       "      <th>2</th>\n",
       "      <td>Female</td>\n",
       "      <td>Education</td>\n",
       "      <td>818</td>\n",
       "    </tr>\n",
       "    <tr>\n",
       "      <th>3</th>\n",
       "      <td>Female</td>\n",
       "      <td>Engineering</td>\n",
       "      <td>1196</td>\n",
       "    </tr>\n",
       "    <tr>\n",
       "      <th>4</th>\n",
       "      <td>Female</td>\n",
       "      <td>Science</td>\n",
       "      <td>813</td>\n",
       "    </tr>\n",
       "    <tr>\n",
       "      <th>5</th>\n",
       "      <td>Male</td>\n",
       "      <td>Arts</td>\n",
       "      <td>881</td>\n",
       "    </tr>\n",
       "    <tr>\n",
       "      <th>6</th>\n",
       "      <td>Male</td>\n",
       "      <td>Business</td>\n",
       "      <td>1130</td>\n",
       "    </tr>\n",
       "    <tr>\n",
       "      <th>7</th>\n",
       "      <td>Male</td>\n",
       "      <td>Education</td>\n",
       "      <td>1212</td>\n",
       "    </tr>\n",
       "    <tr>\n",
       "      <th>8</th>\n",
       "      <td>Male</td>\n",
       "      <td>Engineering</td>\n",
       "      <td>929</td>\n",
       "    </tr>\n",
       "    <tr>\n",
       "      <th>9</th>\n",
       "      <td>Male</td>\n",
       "      <td>Science</td>\n",
       "      <td>660</td>\n",
       "    </tr>\n",
       "  </tbody>\n",
       "</table>\n",
       "</div>"
      ],
      "text/plain": [
       "   Gender        Major  StudyHoursPerWeek\n",
       "0  Female         Arts               1070\n",
       "1  Female     Business               1229\n",
       "2  Female    Education                818\n",
       "3  Female  Engineering               1196\n",
       "4  Female      Science                813\n",
       "5    Male         Arts                881\n",
       "6    Male     Business               1130\n",
       "7    Male    Education               1212\n",
       "8    Male  Engineering                929\n",
       "9    Male      Science                660"
      ]
     },
     "execution_count": 32,
     "metadata": {},
     "output_type": "execute_result"
    }
   ],
   "source": [
    "grouped = student_df.groupby(['Gender', 'Major'])['StudyHoursPerWeek'].sum().reset_index()\n",
    "grouped        # We can use groupby incase we want to group and combine the two data sets"
   ]
  },
  {
   "cell_type": "code",
   "execution_count": 34,
   "id": "81382c5e-a9d0-4edb-93c4-f44d68e8d2f4",
   "metadata": {},
   "outputs": [
    {
     "data": {
      "text/html": [
       "<div>\n",
       "<style scoped>\n",
       "    .dataframe tbody tr th:only-of-type {\n",
       "        vertical-align: middle;\n",
       "    }\n",
       "\n",
       "    .dataframe tbody tr th {\n",
       "        vertical-align: top;\n",
       "    }\n",
       "\n",
       "    .dataframe thead th {\n",
       "        text-align: right;\n",
       "    }\n",
       "</style>\n",
       "<table border=\"1\" class=\"dataframe\">\n",
       "  <thead>\n",
       "    <tr style=\"text-align: right;\">\n",
       "      <th></th>\n",
       "      <th>Major</th>\n",
       "      <th>StudyHoursPerWeek</th>\n",
       "    </tr>\n",
       "  </thead>\n",
       "  <tbody>\n",
       "    <tr>\n",
       "      <th>0</th>\n",
       "      <td>Arts</td>\n",
       "      <td>1951</td>\n",
       "    </tr>\n",
       "    <tr>\n",
       "      <th>1</th>\n",
       "      <td>Business</td>\n",
       "      <td>2359</td>\n",
       "    </tr>\n",
       "    <tr>\n",
       "      <th>2</th>\n",
       "      <td>Education</td>\n",
       "      <td>2030</td>\n",
       "    </tr>\n",
       "    <tr>\n",
       "      <th>3</th>\n",
       "      <td>Engineering</td>\n",
       "      <td>2125</td>\n",
       "    </tr>\n",
       "    <tr>\n",
       "      <th>4</th>\n",
       "      <td>Science</td>\n",
       "      <td>1473</td>\n",
       "    </tr>\n",
       "  </tbody>\n",
       "</table>\n",
       "</div>"
      ],
      "text/plain": [
       "         Major  StudyHoursPerWeek\n",
       "0         Arts               1951\n",
       "1     Business               2359\n",
       "2    Education               2030\n",
       "3  Engineering               2125\n",
       "4      Science               1473"
      ]
     },
     "execution_count": 34,
     "metadata": {},
     "output_type": "execute_result"
    }
   ],
   "source": [
    "grouped = student_df.groupby(['Major'])['StudyHoursPerWeek'].sum().reset_index()\n",
    "grouped           # in this we are trying to group the major and the studyHoursPerweek"
   ]
  },
  {
   "cell_type": "markdown",
   "id": "d1d5be7e-61a7-40b2-9561-ec94fb580bea",
   "metadata": {},
   "source": [
    "# b)"
   ]
  },
  {
   "cell_type": "code",
   "execution_count": 35,
   "id": "a1038a72-0406-4cad-a742-365f5ec74752",
   "metadata": {},
   "outputs": [
    {
     "data": {
      "text/html": [
       "<div>\n",
       "<style scoped>\n",
       "    .dataframe tbody tr th:only-of-type {\n",
       "        vertical-align: middle;\n",
       "    }\n",
       "\n",
       "    .dataframe tbody tr th {\n",
       "        vertical-align: top;\n",
       "    }\n",
       "\n",
       "    .dataframe thead th {\n",
       "        text-align: right;\n",
       "    }\n",
       "</style>\n",
       "<table border=\"1\" class=\"dataframe\">\n",
       "  <thead>\n",
       "    <tr style=\"text-align: right;\">\n",
       "      <th></th>\n",
       "      <th>Gender</th>\n",
       "      <th>AttendanceRate</th>\n",
       "    </tr>\n",
       "  </thead>\n",
       "  <tbody>\n",
       "    <tr>\n",
       "      <th>0</th>\n",
       "      <td>Female</td>\n",
       "      <td>19436.99</td>\n",
       "    </tr>\n",
       "    <tr>\n",
       "      <th>1</th>\n",
       "      <td>Male</td>\n",
       "      <td>18058.20</td>\n",
       "    </tr>\n",
       "  </tbody>\n",
       "</table>\n",
       "</div>"
      ],
      "text/plain": [
       "   Gender  AttendanceRate\n",
       "0  Female        19436.99\n",
       "1    Male        18058.20"
      ]
     },
     "execution_count": 35,
     "metadata": {},
     "output_type": "execute_result"
    }
   ],
   "source": [
    "grouped = student_df.groupby(['Gender'])['AttendanceRate'].sum().reset_index()\n",
    "grouped"
   ]
  },
  {
   "cell_type": "code",
   "execution_count": 36,
   "id": "633023a0-d931-4131-ad57-a33fef329ef1",
   "metadata": {},
   "outputs": [
    {
     "data": {
      "text/plain": [
       "Gender\n",
       "Female    75.925742\n",
       "Male      74.009016\n",
       "Name: AttendanceRate, dtype: float64"
      ]
     },
     "execution_count": 36,
     "metadata": {},
     "output_type": "execute_result"
    }
   ],
   "source": [
    "grouped = student_df.groupby(['Gender'])['AttendanceRate'].mean()\n",
    "grouped # it is used to get the mean of the grouped data"
   ]
  },
  {
   "cell_type": "markdown",
   "id": "ab3b406d-0c32-43c3-95c3-4f4bf330b24f",
   "metadata": {},
   "source": [
    "# c)"
   ]
  },
  {
   "cell_type": "code",
   "execution_count": 37,
   "id": "dd94342a-4315-4c13-81e1-ea9499cdc01b",
   "metadata": {},
   "outputs": [
    {
     "data": {
      "text/html": [
       "<div>\n",
       "<style scoped>\n",
       "    .dataframe tbody tr th:only-of-type {\n",
       "        vertical-align: middle;\n",
       "    }\n",
       "\n",
       "    .dataframe tbody tr th {\n",
       "        vertical-align: top;\n",
       "    }\n",
       "\n",
       "    .dataframe thead th {\n",
       "        text-align: right;\n",
       "    }\n",
       "</style>\n",
       "<table border=\"1\" class=\"dataframe\">\n",
       "  <thead>\n",
       "    <tr style=\"text-align: right;\">\n",
       "      <th></th>\n",
       "      <th>PartTimeJob</th>\n",
       "      <th>StudentID</th>\n",
       "      <th>Gender</th>\n",
       "      <th>Age</th>\n",
       "      <th>StudyHoursPerWeek</th>\n",
       "      <th>AttendanceRate</th>\n",
       "      <th>GPA</th>\n",
       "      <th>Major</th>\n",
       "      <th>ExtraCurricularActivities</th>\n",
       "    </tr>\n",
       "  </thead>\n",
       "  <tbody>\n",
       "    <tr>\n",
       "      <th>0</th>\n",
       "      <td>No</td>\n",
       "      <td>58624</td>\n",
       "      <td>FemaleMaleMaleMaleMaleMaleMaleFemaleMaleFemale...</td>\n",
       "      <td>4876</td>\n",
       "      <td>4642</td>\n",
       "      <td>17492.96</td>\n",
       "      <td>686.88</td>\n",
       "      <td>EducationBusinessArtsEducationBusinessScienceB...</td>\n",
       "      <td>NoNoNoNoNoYesNoYesNoYesNoNoNoYesYesYesYesNoNoN...</td>\n",
       "    </tr>\n",
       "    <tr>\n",
       "      <th>1</th>\n",
       "      <td>Yes</td>\n",
       "      <td>66626</td>\n",
       "      <td>MaleMaleMaleFemaleFemaleMaleMaleFemaleMaleFema...</td>\n",
       "      <td>5602</td>\n",
       "      <td>5296</td>\n",
       "      <td>20002.23</td>\n",
       "      <td>805.70</td>\n",
       "      <td>ArtsScienceEducationBusinessEngineeringEnginee...</td>\n",
       "      <td>NoNoNoNoYesNoNoYesNoYesYesNoNoYesNoNoYesYesNoY...</td>\n",
       "    </tr>\n",
       "  </tbody>\n",
       "</table>\n",
       "</div>"
      ],
      "text/plain": [
       "  PartTimeJob  StudentID                                             Gender  \\\n",
       "0          No      58624  FemaleMaleMaleMaleMaleMaleMaleFemaleMaleFemale...   \n",
       "1         Yes      66626  MaleMaleMaleFemaleFemaleMaleMaleFemaleMaleFema...   \n",
       "\n",
       "    Age  StudyHoursPerWeek  AttendanceRate     GPA  \\\n",
       "0  4876               4642        17492.96  686.88   \n",
       "1  5602               5296        20002.23  805.70   \n",
       "\n",
       "                                               Major  \\\n",
       "0  EducationBusinessArtsEducationBusinessScienceB...   \n",
       "1  ArtsScienceEducationBusinessEngineeringEnginee...   \n",
       "\n",
       "                           ExtraCurricularActivities  \n",
       "0  NoNoNoNoNoYesNoYesNoYesNoNoNoYesYesYesYesNoNoN...  \n",
       "1  NoNoNoNoYesNoNoYesNoYesYesNoNoYesNoNoYesYesNoY...  "
      ]
     },
     "execution_count": 37,
     "metadata": {},
     "output_type": "execute_result"
    }
   ],
   "source": [
    "grouped = student_df.groupby(['PartTimeJob']).sum().reset_index()\n",
    "grouped"
   ]
  },
  {
   "cell_type": "markdown",
   "id": "4a313d06-ecca-49d1-8f3c-3b94b1c4fc26",
   "metadata": {},
   "source": [
    "# d)"
   ]
  },
  {
   "cell_type": "code",
   "execution_count": 39,
   "id": "df26a744-2ae3-4889-a6d8-f40f675c9fa0",
   "metadata": {},
   "outputs": [
    {
     "data": {
      "text/html": [
       "<div>\n",
       "<style scoped>\n",
       "    .dataframe tbody tr th:only-of-type {\n",
       "        vertical-align: middle;\n",
       "    }\n",
       "\n",
       "    .dataframe tbody tr th {\n",
       "        vertical-align: top;\n",
       "    }\n",
       "\n",
       "    .dataframe thead th {\n",
       "        text-align: right;\n",
       "    }\n",
       "</style>\n",
       "<table border=\"1\" class=\"dataframe\">\n",
       "  <thead>\n",
       "    <tr style=\"text-align: right;\">\n",
       "      <th></th>\n",
       "      <th>Gender</th>\n",
       "      <th>GPA</th>\n",
       "    </tr>\n",
       "  </thead>\n",
       "  <tbody>\n",
       "    <tr>\n",
       "      <th>0</th>\n",
       "      <td>Female</td>\n",
       "      <td>766.81</td>\n",
       "    </tr>\n",
       "    <tr>\n",
       "      <th>1</th>\n",
       "      <td>Male</td>\n",
       "      <td>725.77</td>\n",
       "    </tr>\n",
       "  </tbody>\n",
       "</table>\n",
       "</div>"
      ],
      "text/plain": [
       "   Gender     GPA\n",
       "0  Female  766.81\n",
       "1    Male  725.77"
      ]
     },
     "execution_count": 39,
     "metadata": {},
     "output_type": "execute_result"
    }
   ],
   "source": [
    "grouped = student_df.groupby(['Gender'])['GPA'].sum().reset_index()\n",
    "grouped"
   ]
  },
  {
   "cell_type": "code",
   "execution_count": 40,
   "id": "77ffba80-80b3-41f0-a473-09e6cbc7b294",
   "metadata": {},
   "outputs": [
    {
     "data": {
      "text/plain": [
       "Gender\n",
       "Female    2.995352\n",
       "Male      2.974467\n",
       "Name: GPA, dtype: float64"
      ]
     },
     "execution_count": 40,
     "metadata": {},
     "output_type": "execute_result"
    }
   ],
   "source": [
    "grouped = student_df.groupby(['Gender'])['GPA'].mean()\n",
    "grouped"
   ]
  },
  {
   "cell_type": "code",
   "execution_count": 41,
   "id": "0561e660-dff5-4409-97ba-8d287a3d4fbd",
   "metadata": {},
   "outputs": [
    {
     "data": {
      "text/plain": [
       "Gender  GPA \n",
       "Female  2.00    22.0\n",
       "        2.01    18.0\n",
       "        2.02    18.0\n",
       "        2.05    18.0\n",
       "        2.06    19.0\n",
       "                ... \n",
       "Male    3.93    20.0\n",
       "        3.95    18.0\n",
       "        3.96    22.0\n",
       "        3.98    23.0\n",
       "        3.99    19.0\n",
       "Name: Age, Length: 281, dtype: float64"
      ]
     },
     "execution_count": 41,
     "metadata": {},
     "output_type": "execute_result"
    }
   ],
   "source": [
    "grouped = student_df.groupby(['Gender','GPA'])['Age'].mean()\n",
    "grouped      # Incase we want to get the mean of the Gender we use .mean()"
   ]
  },
  {
   "cell_type": "code",
   "execution_count": 42,
   "id": "99a4b870-c648-4cb5-a9b4-1a8a3bbff420",
   "metadata": {},
   "outputs": [
    {
     "name": "stdout",
     "output_type": "stream",
     "text": [
      "        Mean_GPA  Age_Variance\n",
      "Gender                        \n",
      "Female  2.995352      4.005637\n",
      "Male    2.974467      3.960130\n"
     ]
    }
   ],
   "source": [
    "statistics = student_df.groupby('Gender').agg(\n",
    "    Mean_GPA=('GPA', 'mean'),\n",
    "    Age_Variance=('Age', 'var')\n",
    ")\n",
    "\n",
    "print(statistics)"
   ]
  },
  {
   "cell_type": "markdown",
   "id": "257fbbdb-d558-4713-80e5-ebd467b81b7f",
   "metadata": {},
   "source": [
    "# e)"
   ]
  },
  {
   "cell_type": "code",
   "execution_count": 43,
   "id": "e98ea069-3a61-4361-8741-ba76edf16e5b",
   "metadata": {},
   "outputs": [],
   "source": [
    "import matplotlib.pyplot as plt"
   ]
  },
  {
   "cell_type": "code",
   "execution_count": 45,
   "id": "af697ee1-d807-4923-a0d0-aa90ac47b736",
   "metadata": {},
   "outputs": [
    {
     "data": {
      "image/png": "[encoded data removed]",
      "text/plain": [
       "<Figure size 800x600 with 1 Axes>"
      ]
     },
     "metadata": {},
     "output_type": "display_data"
    }
   ],
   "source": [
    "plt.figure(figsize=(8,6))\n",
    "sns.histplot(x='GPA',data = student_df)\n",
    "plt.title(\"Visualisation of GPA and Age\")\n",
    "plt.xlabel('GPA')\n",
    "plt.ylabel('Age')\n",
    "plt.show()        # To visualise data we can plot a histogram,draw a line graph and compare different data with the other"
   ]
  },
  {
   "cell_type": "markdown",
   "id": "356c4e09-f396-4a65-9630-b3c82ff4b8f0",
   "metadata": {},
   "source": [
    "## Question 3"
   ]
  },
  {
   "cell_type": "markdown",
   "id": "6c83f991-f326-4305-8c2f-a8eaf54c5972",
   "metadata": {},
   "source": [
    "# a)"
   ]
  },
  {
   "cell_type": "code",
   "execution_count": null,
   "id": "3ed614dd-95ac-434a-aab8-66d243ee4ad1",
   "metadata": {},
   "outputs": [],
   "source": [
    "# Collecting the data from different sources that is to be used\n",
    "# preprocess the data .This is mainly cleaning and verifying the data to be used\n",
    "# Explore the data.This is mainly searching more about the data that is to be used\n",
    "#Train the model.After the above process train the model inorder to see if the model fits and giving it different tasks and checking its capability\n",
    "#Test the model.After training the model ,we test it to see if its appropriate for the activity"
   ]
  },
  {
   "cell_type": "markdown",
   "id": "0d83fd57-cd63-439b-b2a9-864d2f21cc9d",
   "metadata": {},
   "source": [
    "# b)"
   ]
  },
  {
   "cell_type": "code",
   "execution_count": 1,
   "id": "37832613-b08a-4c05-991c-5766110b1c95",
   "metadata": {},
   "outputs": [],
   "source": [
    "# Describe what assumptions in the linear regression \n",
    "\n",
    "#Linear regression assumes:\n",
    "\n",
    "#Linearity: There is a linear relationship between the independent and dependent variables.\n",
    "#Independence of errors: The residuals (errors) should be independent.\n",
    "#Homoscedasticity: The variance of the residuals should be constant across all levels of the independent variables.\n",
    "#Normality of errors: The residuals should follow a normal distribution.\n",
    "#No multicollinearity: The independent variables should not be highly correlated. # from classroom work"
   ]
  },
  {
   "cell_type": "markdown",
   "id": "4dc6e8ba-e274-49df-8712-5456a3f4e590",
   "metadata": {},
   "source": [
    "# c) Training a simple linear regression"
   ]
  },
  {
   "cell_type": "code",
   "execution_count": 3,
   "id": "5795871c-5388-4360-8b7d-5c5e2ecf2a90",
   "metadata": {},
   "outputs": [],
   "source": [
    "from sklearn.linear_model import LinearRegression\n",
    "from sklearn.model_selection import train_test_split\n",
    "from sklearn.metrics import mean_squared_error\n"
   ]
  },
  {
   "cell_type": "code",
   "execution_count": 5,
   "id": "de50df4b-ea10-473e-a11e-bcd241b7db68",
   "metadata": {},
   "outputs": [],
   "source": [
    "import pandas as pd"
   ]
  },
  {
   "cell_type": "code",
   "execution_count": 6,
   "id": "a17c507f-869b-40de-9796-26dd044c68f6",
   "metadata": {
    "scrolled": true
   },
   "outputs": [
    {
     "data": {
      "text/html": [
       "<div>\n",
       "<style scoped>\n",
       "    .dataframe tbody tr th:only-of-type {\n",
       "        vertical-align: middle;\n",
       "    }\n",
       "\n",
       "    .dataframe tbody tr th {\n",
       "        vertical-align: top;\n",
       "    }\n",
       "\n",
       "    .dataframe thead th {\n",
       "        text-align: right;\n",
       "    }\n",
       "</style>\n",
       "<table border=\"1\" class=\"dataframe\">\n",
       "  <thead>\n",
       "    <tr style=\"text-align: right;\">\n",
       "      <th></th>\n",
       "      <th>Age</th>\n",
       "      <th>Sex</th>\n",
       "      <th>Marital_status</th>\n",
       "      <th>Number_of_children</th>\n",
       "      <th>Family_size</th>\n",
       "      <th>Education-degree_recode</th>\n",
       "      <th>Education-degree_recode 2</th>\n",
       "      <th>Education</th>\n",
       "      <th>Race_ethnicity-multi_recode</th>\n",
       "      <th>Immigrate-year</th>\n",
       "      <th>Birthplace_recode</th>\n",
       "      <th>Speaks_English</th>\n",
       "      <th>Employment_status</th>\n",
       "      <th>Income-wages</th>\n",
       "      <th>Region_recode</th>\n",
       "      <th>Region-division_recode</th>\n",
       "      <th>Moved</th>\n",
       "      <th>Year</th>\n",
       "      <th>state</th>\n",
       "    </tr>\n",
       "  </thead>\n",
       "  <tbody>\n",
       "    <tr>\n",
       "      <th>0</th>\n",
       "      <td>30</td>\n",
       "      <td>Male</td>\n",
       "      <td>Married, spouse present</td>\n",
       "      <td>2</td>\n",
       "      <td>4</td>\n",
       "      <td>Masterâ€™s or professional degree</td>\n",
       "      <td>Master or professional degree</td>\n",
       "      <td>Master or PhD or professional degree</td>\n",
       "      <td>Non-Hispanic White</td>\n",
       "      <td>0</td>\n",
       "      <td>U.S. state, territory, or outlying region</td>\n",
       "      <td>Yes, speaks only English</td>\n",
       "      <td>Employed</td>\n",
       "      <td>63000</td>\n",
       "      <td>South</td>\n",
       "      <td>East South Central</td>\n",
       "      <td>Same house</td>\n",
       "      <td>2020</td>\n",
       "      <td>Tennessee</td>\n",
       "    </tr>\n",
       "    <tr>\n",
       "      <th>1</th>\n",
       "      <td>28</td>\n",
       "      <td>Female</td>\n",
       "      <td>Married, spouse present</td>\n",
       "      <td>1 child present</td>\n",
       "      <td>3</td>\n",
       "      <td>Masterâ€™s or professional degree</td>\n",
       "      <td>Master or professional degree</td>\n",
       "      <td>Master or PhD or professional degree</td>\n",
       "      <td>Non-Hispanic White</td>\n",
       "      <td>0</td>\n",
       "      <td>U.S. state, territory, or outlying region</td>\n",
       "      <td>Yes, speaks only English</td>\n",
       "      <td>Employed</td>\n",
       "      <td>46000</td>\n",
       "      <td>South</td>\n",
       "      <td>East South Central</td>\n",
       "      <td>Same house</td>\n",
       "      <td>2020</td>\n",
       "      <td>Tennessee</td>\n",
       "    </tr>\n",
       "    <tr>\n",
       "      <th>2</th>\n",
       "      <td>34</td>\n",
       "      <td>Male</td>\n",
       "      <td>Married, spouse present</td>\n",
       "      <td>1 child present</td>\n",
       "      <td>3</td>\n",
       "      <td>Bachelorâ€™s degree</td>\n",
       "      <td>Bachelor degree</td>\n",
       "      <td>Associate or Bachelor degree</td>\n",
       "      <td>Non-Hispanic White</td>\n",
       "      <td>0</td>\n",
       "      <td>U.S. state, territory, or outlying region</td>\n",
       "      <td>Yes, speaks only English</td>\n",
       "      <td>Employed</td>\n",
       "      <td>45000</td>\n",
       "      <td>South</td>\n",
       "      <td>East South Central</td>\n",
       "      <td>Same house</td>\n",
       "      <td>2020</td>\n",
       "      <td>Tennessee</td>\n",
       "    </tr>\n",
       "    <tr>\n",
       "      <th>3</th>\n",
       "      <td>58</td>\n",
       "      <td>Female</td>\n",
       "      <td>Married, spouse absent</td>\n",
       "      <td>1 child present</td>\n",
       "      <td>2</td>\n",
       "      <td>1 or more years of college, no degree</td>\n",
       "      <td>1 or more years of college, no degree</td>\n",
       "      <td>1 or more years of college, no degree</td>\n",
       "      <td>Non-Hispanic White</td>\n",
       "      <td>0</td>\n",
       "      <td>U.S. state, territory, or outlying region</td>\n",
       "      <td>Yes, speaks only English</td>\n",
       "      <td>Employed</td>\n",
       "      <td>55000</td>\n",
       "      <td>South</td>\n",
       "      <td>East South Central</td>\n",
       "      <td>Same house</td>\n",
       "      <td>2020</td>\n",
       "      <td>Tennessee</td>\n",
       "    </tr>\n",
       "    <tr>\n",
       "      <th>4</th>\n",
       "      <td>39</td>\n",
       "      <td>Male</td>\n",
       "      <td>Never married/single</td>\n",
       "      <td>0 children present</td>\n",
       "      <td>1</td>\n",
       "      <td>Bachelorâ€™s degree</td>\n",
       "      <td>Bachelor degree</td>\n",
       "      <td>Associate or Bachelor degree</td>\n",
       "      <td>Non-Hispanic White</td>\n",
       "      <td>0</td>\n",
       "      <td>U.S. state, territory, or outlying region</td>\n",
       "      <td>Yes, speaks only English</td>\n",
       "      <td>Employed</td>\n",
       "      <td>12000</td>\n",
       "      <td>South</td>\n",
       "      <td>East South Central</td>\n",
       "      <td>Same house</td>\n",
       "      <td>2020</td>\n",
       "      <td>Tennessee</td>\n",
       "    </tr>\n",
       "    <tr>\n",
       "      <th>...</th>\n",
       "      <td>...</td>\n",
       "      <td>...</td>\n",
       "      <td>...</td>\n",
       "      <td>...</td>\n",
       "      <td>...</td>\n",
       "      <td>...</td>\n",
       "      <td>...</td>\n",
       "      <td>...</td>\n",
       "      <td>...</td>\n",
       "      <td>...</td>\n",
       "      <td>...</td>\n",
       "      <td>...</td>\n",
       "      <td>...</td>\n",
       "      <td>...</td>\n",
       "      <td>...</td>\n",
       "      <td>...</td>\n",
       "      <td>...</td>\n",
       "      <td>...</td>\n",
       "      <td>...</td>\n",
       "    </tr>\n",
       "    <tr>\n",
       "      <th>4360</th>\n",
       "      <td>67</td>\n",
       "      <td>Male</td>\n",
       "      <td>Married, spouse present</td>\n",
       "      <td>0 children present</td>\n",
       "      <td>2</td>\n",
       "      <td>Bachelorâ€™s degree</td>\n",
       "      <td>Bachelor degree</td>\n",
       "      <td>Associate or Bachelor degree</td>\n",
       "      <td>Non-Hispanic White</td>\n",
       "      <td>0</td>\n",
       "      <td>U.S. state, territory, or outlying region</td>\n",
       "      <td>Yes, speaks only English</td>\n",
       "      <td>Employed</td>\n",
       "      <td>40000</td>\n",
       "      <td>Midwest</td>\n",
       "      <td>West North Central</td>\n",
       "      <td>Same house</td>\n",
       "      <td>2020</td>\n",
       "      <td>North Dakota</td>\n",
       "    </tr>\n",
       "    <tr>\n",
       "      <th>4361</th>\n",
       "      <td>48</td>\n",
       "      <td>Male</td>\n",
       "      <td>Married, spouse present</td>\n",
       "      <td>4</td>\n",
       "      <td>6</td>\n",
       "      <td>Associateâ€™s degree</td>\n",
       "      <td>Associate degree</td>\n",
       "      <td>Associate or Bachelor degree</td>\n",
       "      <td>Non-Hispanic White</td>\n",
       "      <td>0</td>\n",
       "      <td>U.S. state, territory, or outlying region</td>\n",
       "      <td>Yes, speaks only English</td>\n",
       "      <td>Employed</td>\n",
       "      <td>65000</td>\n",
       "      <td>Midwest</td>\n",
       "      <td>West North Central</td>\n",
       "      <td>Same house</td>\n",
       "      <td>2020</td>\n",
       "      <td>North Dakota</td>\n",
       "    </tr>\n",
       "    <tr>\n",
       "      <th>4362</th>\n",
       "      <td>33</td>\n",
       "      <td>Male</td>\n",
       "      <td>Married, spouse absent</td>\n",
       "      <td>0 children present</td>\n",
       "      <td>1</td>\n",
       "      <td>Associateâ€™s degree</td>\n",
       "      <td>Associate degree</td>\n",
       "      <td>Associate or Bachelor degree</td>\n",
       "      <td>Non-Hispanic Black</td>\n",
       "      <td>2017</td>\n",
       "      <td>Africa</td>\n",
       "      <td>Yes, speaks very well</td>\n",
       "      <td>Employed</td>\n",
       "      <td>45000</td>\n",
       "      <td>Midwest</td>\n",
       "      <td>West North Central</td>\n",
       "      <td>Same house</td>\n",
       "      <td>2020</td>\n",
       "      <td>North Dakota</td>\n",
       "    </tr>\n",
       "    <tr>\n",
       "      <th>4363</th>\n",
       "      <td>22</td>\n",
       "      <td>Female</td>\n",
       "      <td>Never married/single</td>\n",
       "      <td>0 children present</td>\n",
       "      <td>2</td>\n",
       "      <td>1 or more years of college, no degree</td>\n",
       "      <td>1 or more years of college, no degree</td>\n",
       "      <td>1 or more years of college, no degree</td>\n",
       "      <td>Non-Hispanic White</td>\n",
       "      <td>0</td>\n",
       "      <td>U.S. state, territory, or outlying region</td>\n",
       "      <td>Yes, speaks only English</td>\n",
       "      <td>Employed</td>\n",
       "      <td>500</td>\n",
       "      <td>Midwest</td>\n",
       "      <td>West North Central</td>\n",
       "      <td>Same house</td>\n",
       "      <td>2020</td>\n",
       "      <td>North Dakota</td>\n",
       "    </tr>\n",
       "    <tr>\n",
       "      <th>4364</th>\n",
       "      <td>49</td>\n",
       "      <td>Female</td>\n",
       "      <td>Married, spouse present</td>\n",
       "      <td>2</td>\n",
       "      <td>4</td>\n",
       "      <td>Masterâ€™s or professional degree</td>\n",
       "      <td>Master or professional degree</td>\n",
       "      <td>Master or PhD or professional degree</td>\n",
       "      <td>Non-Hispanic White</td>\n",
       "      <td>0</td>\n",
       "      <td>U.S. state, territory, or outlying region</td>\n",
       "      <td>Yes, speaks only English</td>\n",
       "      <td>Employed</td>\n",
       "      <td>498000</td>\n",
       "      <td>Midwest</td>\n",
       "      <td>West North Central</td>\n",
       "      <td>Same house</td>\n",
       "      <td>2020</td>\n",
       "      <td>North Dakota</td>\n",
       "    </tr>\n",
       "  </tbody>\n",
       "</table>\n",
       "<p>4365 rows × 19 columns</p>\n",
       "</div>"
      ],
      "text/plain": [
       "      Age     Sex           Marital_status  Number_of_children  Family_size  \\\n",
       "0      30    Male  Married, spouse present                   2            4   \n",
       "1      28  Female  Married, spouse present     1 child present            3   \n",
       "2      34    Male  Married, spouse present     1 child present            3   \n",
       "3      58  Female   Married, spouse absent     1 child present            2   \n",
       "4      39    Male     Never married/single  0 children present            1   \n",
       "...   ...     ...                      ...                 ...          ...   \n",
       "4360   67    Male  Married, spouse present  0 children present            2   \n",
       "4361   48    Male  Married, spouse present                   4            6   \n",
       "4362   33    Male   Married, spouse absent  0 children present            1   \n",
       "4363   22  Female     Never married/single  0 children present            2   \n",
       "4364   49  Female  Married, spouse present                   2            4   \n",
       "\n",
       "                    Education-degree_recode  \\\n",
       "0         Masterâ€™s or professional degree   \n",
       "1         Masterâ€™s or professional degree   \n",
       "2                       Bachelorâ€™s degree   \n",
       "3     1 or more years of college, no degree   \n",
       "4                       Bachelorâ€™s degree   \n",
       "...                                     ...   \n",
       "4360                    Bachelorâ€™s degree   \n",
       "4361                   Associateâ€™s degree   \n",
       "4362                   Associateâ€™s degree   \n",
       "4363  1 or more years of college, no degree   \n",
       "4364      Masterâ€™s or professional degree   \n",
       "\n",
       "                  Education-degree_recode 2  \\\n",
       "0             Master or professional degree   \n",
       "1             Master or professional degree   \n",
       "2                           Bachelor degree   \n",
       "3     1 or more years of college, no degree   \n",
       "4                           Bachelor degree   \n",
       "...                                     ...   \n",
       "4360                        Bachelor degree   \n",
       "4361                       Associate degree   \n",
       "4362                       Associate degree   \n",
       "4363  1 or more years of college, no degree   \n",
       "4364          Master or professional degree   \n",
       "\n",
       "                                  Education Race_ethnicity-multi_recode  \\\n",
       "0      Master or PhD or professional degree          Non-Hispanic White   \n",
       "1      Master or PhD or professional degree          Non-Hispanic White   \n",
       "2              Associate or Bachelor degree          Non-Hispanic White   \n",
       "3     1 or more years of college, no degree          Non-Hispanic White   \n",
       "4              Associate or Bachelor degree          Non-Hispanic White   \n",
       "...                                     ...                         ...   \n",
       "4360           Associate or Bachelor degree          Non-Hispanic White   \n",
       "4361           Associate or Bachelor degree          Non-Hispanic White   \n",
       "4362           Associate or Bachelor degree          Non-Hispanic Black   \n",
       "4363  1 or more years of college, no degree          Non-Hispanic White   \n",
       "4364   Master or PhD or professional degree          Non-Hispanic White   \n",
       "\n",
       "      Immigrate-year                          Birthplace_recode  \\\n",
       "0                  0  U.S. state, territory, or outlying region   \n",
       "1                  0  U.S. state, territory, or outlying region   \n",
       "2                  0  U.S. state, territory, or outlying region   \n",
       "3                  0  U.S. state, territory, or outlying region   \n",
       "4                  0  U.S. state, territory, or outlying region   \n",
       "...              ...                                        ...   \n",
       "4360               0  U.S. state, territory, or outlying region   \n",
       "4361               0  U.S. state, territory, or outlying region   \n",
       "4362            2017                                     Africa   \n",
       "4363               0  U.S. state, territory, or outlying region   \n",
       "4364               0  U.S. state, territory, or outlying region   \n",
       "\n",
       "                Speaks_English Employment_status  Income-wages Region_recode  \\\n",
       "0     Yes, speaks only English          Employed         63000         South   \n",
       "1     Yes, speaks only English          Employed         46000         South   \n",
       "2     Yes, speaks only English          Employed         45000         South   \n",
       "3     Yes, speaks only English          Employed         55000         South   \n",
       "4     Yes, speaks only English          Employed         12000         South   \n",
       "...                        ...               ...           ...           ...   \n",
       "4360  Yes, speaks only English          Employed         40000       Midwest   \n",
       "4361  Yes, speaks only English          Employed         65000       Midwest   \n",
       "4362     Yes, speaks very well          Employed         45000       Midwest   \n",
       "4363  Yes, speaks only English          Employed           500       Midwest   \n",
       "4364  Yes, speaks only English          Employed        498000       Midwest   \n",
       "\n",
       "     Region-division_recode       Moved  Year         state  \n",
       "0        East South Central  Same house  2020     Tennessee  \n",
       "1        East South Central  Same house  2020     Tennessee  \n",
       "2        East South Central  Same house  2020     Tennessee  \n",
       "3        East South Central  Same house  2020     Tennessee  \n",
       "4        East South Central  Same house  2020     Tennessee  \n",
       "...                     ...         ...   ...           ...  \n",
       "4360     West North Central  Same house  2020  North Dakota  \n",
       "4361     West North Central  Same house  2020  North Dakota  \n",
       "4362     West North Central  Same house  2020  North Dakota  \n",
       "4363     West North Central  Same house  2020  North Dakota  \n",
       "4364     West North Central  Same house  2020  North Dakota  \n",
       "\n",
       "[4365 rows x 19 columns]"
      ]
     },
     "execution_count": 6,
     "metadata": {},
     "output_type": "execute_result"
    }
   ],
   "source": [
    "df = pd.read_excel('Wages 2020Census cleaned.xlsx')\n",
    "df # This code is used when you need the data set to be displayed so that it can be in a working space"
   ]
  },
  {
   "cell_type": "code",
   "execution_count": 7,
   "id": "ef7037ef-b86f-4abd-909f-5abb04709284",
   "metadata": {},
   "outputs": [],
   "source": [
    "import numpy as np"
   ]
  },
  {
   "cell_type": "code",
   "execution_count": 8,
   "id": "684fd428-007a-4a5e-a021-eeae6662d816",
   "metadata": {},
   "outputs": [
    {
     "data": {
      "text/plain": [
       "((4365, 1), (4365, 1))"
      ]
     },
     "execution_count": 8,
     "metadata": {},
     "output_type": "execute_result"
    }
   ],
   "source": [
    "dataset = np.array(df)\n",
    "\n",
    "x = dataset[:, 0].reshape(-1, 1)\n",
    "y = dataset[:, 1].reshape(-1, 1)\n",
    "x.shape, y.shape   # from univariate linearregression method3"
   ]
  },
  {
   "cell_type": "code",
   "execution_count": 9,
   "id": "3053ce60-e4fd-4a6e-9e31-d03c5261cdfa",
   "metadata": {},
   "outputs": [],
   "source": [
    "from sklearn.model_selection import train_test_split\n",
    "\n",
    "x_train, x_test, y_train, y_test = train_test_split(x, y, test_size=0.2, random_state=42) # from the univariate_linear_regression notebook  part of splitting and training the model"
   ]
  },
  {
   "cell_type": "code",
   "execution_count": 10,
   "id": "07b8cfc7-6d58-4a67-8175-6eebb50649f0",
   "metadata": {},
   "outputs": [
    {
     "name": "stdout",
     "output_type": "stream",
     "text": [
      "(3492, 1)\n",
      "(3492, 1)\n",
      "(873, 1)\n",
      "(873, 1)\n"
     ]
    }
   ],
   "source": [
    "print(x_train.shape)\n",
    "print(y_train.shape)\n",
    "print(x_test.shape)\n",
    "print(y_test.shape)"
   ]
  },
  {
   "cell_type": "markdown",
   "id": "16f23bfa-6692-42b5-a6b4-147f2fb6421f",
   "metadata": {},
   "source": [
    "# d)"
   ]
  },
  {
   "cell_type": "code",
   "execution_count": 25,
   "id": "6c25644e-38c0-4058-be3a-599359aca9f7",
   "metadata": {},
   "outputs": [],
   "source": [
    "import numpy as np"
   ]
  },
  {
   "cell_type": "code",
   "execution_count": 26,
   "id": "ce3a78f6-6707-4129-b0b0-458023d2025b",
   "metadata": {},
   "outputs": [],
   "source": [
    "y_true = np.array([3.0, -0.5, 2.0, 7.0])\n",
    "y_pred = np.array([2.5, 0.0, 2.1, 7.8])\n",
    "# discover from stackoverflow\n"
   ]
  },
  {
   "cell_type": "code",
   "execution_count": 27,
   "id": "aa15784b-2c23-496d-a405-5a68c1a0205a",
   "metadata": {},
   "outputs": [
    {
     "name": "stdout",
     "output_type": "stream",
     "text": [
      "Mean Absolute Error: 0.475\n"
     ]
    }
   ],
   "source": [
    "absolute_errors = np.abs(y_true - y_pred)\n",
    "\n",
    "# Calculate the mean absolute error (MAE)\n",
    "mae = np.mean(absolute_errors)\n",
    "\n",
    "print(f\"Mean Absolute Error: {mae}\") # This is mainly used to create and get the mean absolute error"
   ]
  },
  {
   "cell_type": "markdown",
   "id": "0e3956d0-4c56-48a5-94a9-c2d80bf25607",
   "metadata": {},
   "source": [
    "# e)"
   ]
  },
  {
   "cell_type": "code",
   "execution_count": null,
   "id": "280747a7-a737-486b-9a5a-d4ea31f5b570",
   "metadata": {},
   "outputs": [],
   "source": [
    "# from notes of univariate linear regression mainly in hypothesis function"
   ]
  },
  {
   "cell_type": "code",
   "execution_count": null,
   "id": "36ec9677-cc2e-4736-b019-ecec8b016a6a",
   "metadata": {},
   "outputs": [],
   "source": [
    "#1. Coefficients (Slope and Intercept)\n",
    "#Intercept (β₀): This represents the value of the dependent variable (Y) when all independent variables (X) are equal to zero\n",
    "#Slope(s) (β₁, β₂, ..., βₖ): These represent the change in the dependent variable for a one-unit increase in the \n",
    "#corresponding independent variable while holding other variables constant.\n",
    "# outcome\n",
    "#Intercept (β₀): 5 (Interpretation: If advertising spend is zero, sales will be 5 units).\n",
    "#Slope (β₁ for X): 2 (Interpretation: For every 1 unit increase in advertising spend, sales increase by 2 units).\n",
    "#R²: 0.85 (Interpretation: 85% of the variation in sales is explained by advertising spend).\n",
    "#p-value for β₁: 0.01 (Interpretation: Advertising spend is a statistically significant predictor of sales).\n",
    "#t-statistic for β₁: 3.5 (Interpretation: The coefficient for advertising spend is significantly different from zero)."
   ]
  },
  {
   "cell_type": "markdown",
   "id": "25d62c4d-c16e-4835-ad50-e65915e5dc69",
   "metadata": {},
   "source": [
    "# f)"
   ]
  },
  {
   "cell_type": "code",
   "execution_count": 32,
   "id": "8353994f-a446-4e09-ba7e-f4f3915d554f",
   "metadata": {},
   "outputs": [],
   "source": [
    "from sklearn.linear_model import LinearRegression\n",
    "from sklearn.model_selection import train_test_split\n",
    "from sklearn.metrics import mean_squared_error"
   ]
  },
  {
   "cell_type": "markdown",
   "id": "a63c4a65-1f8f-4262-9b3f-5a772e0f008e",
   "metadata": {},
   "source": [
    "# Question 1"
   ]
  },
  {
   "cell_type": "markdown",
   "id": "254b3dda-06d4-4a16-8ab9-e3a978a47085",
   "metadata": {},
   "source": [
    "## a)"
   ]
  },
  {
   "cell_type": "code",
   "execution_count": 11,
   "id": "64281a27-1a1d-4897-be0b-57d4e3b984d0",
   "metadata": {},
   "outputs": [],
   "source": [
    "import pandas as pd\n",
    "import numpy as np\n",
    "import seaborn as sns\n",
    "import matplotlib.pyplot as plt"
   ]
  },
  {
   "cell_type": "code",
   "execution_count": 12,
   "id": "863b165b-83c1-40bb-a458-f5abdac722e1",
   "metadata": {},
   "outputs": [
    {
     "data": {
      "text/html": [
       "<div>\n",
       "<style scoped>\n",
       "    .dataframe tbody tr th:only-of-type {\n",
       "        vertical-align: middle;\n",
       "    }\n",
       "\n",
       "    .dataframe tbody tr th {\n",
       "        vertical-align: top;\n",
       "    }\n",
       "\n",
       "    .dataframe thead th {\n",
       "        text-align: right;\n",
       "    }\n",
       "</style>\n",
       "<table border=\"1\" class=\"dataframe\">\n",
       "  <thead>\n",
       "    <tr style=\"text-align: right;\">\n",
       "      <th></th>\n",
       "      <th>Age</th>\n",
       "      <th>Sex</th>\n",
       "      <th>Marital_status</th>\n",
       "      <th>Number_of_children</th>\n",
       "      <th>Family_size</th>\n",
       "      <th>Education-degree_recode</th>\n",
       "      <th>Education-degree_recode 2</th>\n",
       "      <th>Education</th>\n",
       "      <th>Race_ethnicity-multi_recode</th>\n",
       "      <th>Immigrate-year</th>\n",
       "      <th>Birthplace_recode</th>\n",
       "      <th>Speaks_English</th>\n",
       "      <th>Employment_status</th>\n",
       "      <th>Income-wages</th>\n",
       "      <th>Region_recode</th>\n",
       "      <th>Region-division_recode</th>\n",
       "      <th>Moved</th>\n",
       "      <th>Year</th>\n",
       "      <th>state</th>\n",
       "    </tr>\n",
       "  </thead>\n",
       "  <tbody>\n",
       "    <tr>\n",
       "      <th>0</th>\n",
       "      <td>30</td>\n",
       "      <td>Male</td>\n",
       "      <td>Married, spouse present</td>\n",
       "      <td>2</td>\n",
       "      <td>4</td>\n",
       "      <td>Masterâ€™s or professional degree</td>\n",
       "      <td>Master or professional degree</td>\n",
       "      <td>Master or PhD or professional degree</td>\n",
       "      <td>Non-Hispanic White</td>\n",
       "      <td>0</td>\n",
       "      <td>U.S. state, territory, or outlying region</td>\n",
       "      <td>Yes, speaks only English</td>\n",
       "      <td>Employed</td>\n",
       "      <td>63000</td>\n",
       "      <td>South</td>\n",
       "      <td>East South Central</td>\n",
       "      <td>Same house</td>\n",
       "      <td>2020</td>\n",
       "      <td>Tennessee</td>\n",
       "    </tr>\n",
       "    <tr>\n",
       "      <th>1</th>\n",
       "      <td>28</td>\n",
       "      <td>Female</td>\n",
       "      <td>Married, spouse present</td>\n",
       "      <td>1 child present</td>\n",
       "      <td>3</td>\n",
       "      <td>Masterâ€™s or professional degree</td>\n",
       "      <td>Master or professional degree</td>\n",
       "      <td>Master or PhD or professional degree</td>\n",
       "      <td>Non-Hispanic White</td>\n",
       "      <td>0</td>\n",
       "      <td>U.S. state, territory, or outlying region</td>\n",
       "      <td>Yes, speaks only English</td>\n",
       "      <td>Employed</td>\n",
       "      <td>46000</td>\n",
       "      <td>South</td>\n",
       "      <td>East South Central</td>\n",
       "      <td>Same house</td>\n",
       "      <td>2020</td>\n",
       "      <td>Tennessee</td>\n",
       "    </tr>\n",
       "    <tr>\n",
       "      <th>2</th>\n",
       "      <td>34</td>\n",
       "      <td>Male</td>\n",
       "      <td>Married, spouse present</td>\n",
       "      <td>1 child present</td>\n",
       "      <td>3</td>\n",
       "      <td>Bachelorâ€™s degree</td>\n",
       "      <td>Bachelor degree</td>\n",
       "      <td>Associate or Bachelor degree</td>\n",
       "      <td>Non-Hispanic White</td>\n",
       "      <td>0</td>\n",
       "      <td>U.S. state, territory, or outlying region</td>\n",
       "      <td>Yes, speaks only English</td>\n",
       "      <td>Employed</td>\n",
       "      <td>45000</td>\n",
       "      <td>South</td>\n",
       "      <td>East South Central</td>\n",
       "      <td>Same house</td>\n",
       "      <td>2020</td>\n",
       "      <td>Tennessee</td>\n",
       "    </tr>\n",
       "    <tr>\n",
       "      <th>3</th>\n",
       "      <td>58</td>\n",
       "      <td>Female</td>\n",
       "      <td>Married, spouse absent</td>\n",
       "      <td>1 child present</td>\n",
       "      <td>2</td>\n",
       "      <td>1 or more years of college, no degree</td>\n",
       "      <td>1 or more years of college, no degree</td>\n",
       "      <td>1 or more years of college, no degree</td>\n",
       "      <td>Non-Hispanic White</td>\n",
       "      <td>0</td>\n",
       "      <td>U.S. state, territory, or outlying region</td>\n",
       "      <td>Yes, speaks only English</td>\n",
       "      <td>Employed</td>\n",
       "      <td>55000</td>\n",
       "      <td>South</td>\n",
       "      <td>East South Central</td>\n",
       "      <td>Same house</td>\n",
       "      <td>2020</td>\n",
       "      <td>Tennessee</td>\n",
       "    </tr>\n",
       "    <tr>\n",
       "      <th>4</th>\n",
       "      <td>39</td>\n",
       "      <td>Male</td>\n",
       "      <td>Never married/single</td>\n",
       "      <td>0 children present</td>\n",
       "      <td>1</td>\n",
       "      <td>Bachelorâ€™s degree</td>\n",
       "      <td>Bachelor degree</td>\n",
       "      <td>Associate or Bachelor degree</td>\n",
       "      <td>Non-Hispanic White</td>\n",
       "      <td>0</td>\n",
       "      <td>U.S. state, territory, or outlying region</td>\n",
       "      <td>Yes, speaks only English</td>\n",
       "      <td>Employed</td>\n",
       "      <td>12000</td>\n",
       "      <td>South</td>\n",
       "      <td>East South Central</td>\n",
       "      <td>Same house</td>\n",
       "      <td>2020</td>\n",
       "      <td>Tennessee</td>\n",
       "    </tr>\n",
       "    <tr>\n",
       "      <th>...</th>\n",
       "      <td>...</td>\n",
       "      <td>...</td>\n",
       "      <td>...</td>\n",
       "      <td>...</td>\n",
       "      <td>...</td>\n",
       "      <td>...</td>\n",
       "      <td>...</td>\n",
       "      <td>...</td>\n",
       "      <td>...</td>\n",
       "      <td>...</td>\n",
       "      <td>...</td>\n",
       "      <td>...</td>\n",
       "      <td>...</td>\n",
       "      <td>...</td>\n",
       "      <td>...</td>\n",
       "      <td>...</td>\n",
       "      <td>...</td>\n",
       "      <td>...</td>\n",
       "      <td>...</td>\n",
       "    </tr>\n",
       "    <tr>\n",
       "      <th>4360</th>\n",
       "      <td>67</td>\n",
       "      <td>Male</td>\n",
       "      <td>Married, spouse present</td>\n",
       "      <td>0 children present</td>\n",
       "      <td>2</td>\n",
       "      <td>Bachelorâ€™s degree</td>\n",
       "      <td>Bachelor degree</td>\n",
       "      <td>Associate or Bachelor degree</td>\n",
       "      <td>Non-Hispanic White</td>\n",
       "      <td>0</td>\n",
       "      <td>U.S. state, territory, or outlying region</td>\n",
       "      <td>Yes, speaks only English</td>\n",
       "      <td>Employed</td>\n",
       "      <td>40000</td>\n",
       "      <td>Midwest</td>\n",
       "      <td>West North Central</td>\n",
       "      <td>Same house</td>\n",
       "      <td>2020</td>\n",
       "      <td>North Dakota</td>\n",
       "    </tr>\n",
       "    <tr>\n",
       "      <th>4361</th>\n",
       "      <td>48</td>\n",
       "      <td>Male</td>\n",
       "      <td>Married, spouse present</td>\n",
       "      <td>4</td>\n",
       "      <td>6</td>\n",
       "      <td>Associateâ€™s degree</td>\n",
       "      <td>Associate degree</td>\n",
       "      <td>Associate or Bachelor degree</td>\n",
       "      <td>Non-Hispanic White</td>\n",
       "      <td>0</td>\n",
       "      <td>U.S. state, territory, or outlying region</td>\n",
       "      <td>Yes, speaks only English</td>\n",
       "      <td>Employed</td>\n",
       "      <td>65000</td>\n",
       "      <td>Midwest</td>\n",
       "      <td>West North Central</td>\n",
       "      <td>Same house</td>\n",
       "      <td>2020</td>\n",
       "      <td>North Dakota</td>\n",
       "    </tr>\n",
       "    <tr>\n",
       "      <th>4362</th>\n",
       "      <td>33</td>\n",
       "      <td>Male</td>\n",
       "      <td>Married, spouse absent</td>\n",
       "      <td>0 children present</td>\n",
       "      <td>1</td>\n",
       "      <td>Associateâ€™s degree</td>\n",
       "      <td>Associate degree</td>\n",
       "      <td>Associate or Bachelor degree</td>\n",
       "      <td>Non-Hispanic Black</td>\n",
       "      <td>2017</td>\n",
       "      <td>Africa</td>\n",
       "      <td>Yes, speaks very well</td>\n",
       "      <td>Employed</td>\n",
       "      <td>45000</td>\n",
       "      <td>Midwest</td>\n",
       "      <td>West North Central</td>\n",
       "      <td>Same house</td>\n",
       "      <td>2020</td>\n",
       "      <td>North Dakota</td>\n",
       "    </tr>\n",
       "    <tr>\n",
       "      <th>4363</th>\n",
       "      <td>22</td>\n",
       "      <td>Female</td>\n",
       "      <td>Never married/single</td>\n",
       "      <td>0 children present</td>\n",
       "      <td>2</td>\n",
       "      <td>1 or more years of college, no degree</td>\n",
       "      <td>1 or more years of college, no degree</td>\n",
       "      <td>1 or more years of college, no degree</td>\n",
       "      <td>Non-Hispanic White</td>\n",
       "      <td>0</td>\n",
       "      <td>U.S. state, territory, or outlying region</td>\n",
       "      <td>Yes, speaks only English</td>\n",
       "      <td>Employed</td>\n",
       "      <td>500</td>\n",
       "      <td>Midwest</td>\n",
       "      <td>West North Central</td>\n",
       "      <td>Same house</td>\n",
       "      <td>2020</td>\n",
       "      <td>North Dakota</td>\n",
       "    </tr>\n",
       "    <tr>\n",
       "      <th>4364</th>\n",
       "      <td>49</td>\n",
       "      <td>Female</td>\n",
       "      <td>Married, spouse present</td>\n",
       "      <td>2</td>\n",
       "      <td>4</td>\n",
       "      <td>Masterâ€™s or professional degree</td>\n",
       "      <td>Master or professional degree</td>\n",
       "      <td>Master or PhD or professional degree</td>\n",
       "      <td>Non-Hispanic White</td>\n",
       "      <td>0</td>\n",
       "      <td>U.S. state, territory, or outlying region</td>\n",
       "      <td>Yes, speaks only English</td>\n",
       "      <td>Employed</td>\n",
       "      <td>498000</td>\n",
       "      <td>Midwest</td>\n",
       "      <td>West North Central</td>\n",
       "      <td>Same house</td>\n",
       "      <td>2020</td>\n",
       "      <td>North Dakota</td>\n",
       "    </tr>\n",
       "  </tbody>\n",
       "</table>\n",
       "<p>4365 rows × 19 columns</p>\n",
       "</div>"
      ],
      "text/plain": [
       "      Age     Sex           Marital_status  Number_of_children  Family_size  \\\n",
       "0      30    Male  Married, spouse present                   2            4   \n",
       "1      28  Female  Married, spouse present     1 child present            3   \n",
       "2      34    Male  Married, spouse present     1 child present            3   \n",
       "3      58  Female   Married, spouse absent     1 child present            2   \n",
       "4      39    Male     Never married/single  0 children present            1   \n",
       "...   ...     ...                      ...                 ...          ...   \n",
       "4360   67    Male  Married, spouse present  0 children present            2   \n",
       "4361   48    Male  Married, spouse present                   4            6   \n",
       "4362   33    Male   Married, spouse absent  0 children present            1   \n",
       "4363   22  Female     Never married/single  0 children present            2   \n",
       "4364   49  Female  Married, spouse present                   2            4   \n",
       "\n",
       "                    Education-degree_recode  \\\n",
       "0         Masterâ€™s or professional degree   \n",
       "1         Masterâ€™s or professional degree   \n",
       "2                       Bachelorâ€™s degree   \n",
       "3     1 or more years of college, no degree   \n",
       "4                       Bachelorâ€™s degree   \n",
       "...                                     ...   \n",
       "4360                    Bachelorâ€™s degree   \n",
       "4361                   Associateâ€™s degree   \n",
       "4362                   Associateâ€™s degree   \n",
       "4363  1 or more years of college, no degree   \n",
       "4364      Masterâ€™s or professional degree   \n",
       "\n",
       "                  Education-degree_recode 2  \\\n",
       "0             Master or professional degree   \n",
       "1             Master or professional degree   \n",
       "2                           Bachelor degree   \n",
       "3     1 or more years of college, no degree   \n",
       "4                           Bachelor degree   \n",
       "...                                     ...   \n",
       "4360                        Bachelor degree   \n",
       "4361                       Associate degree   \n",
       "4362                       Associate degree   \n",
       "4363  1 or more years of college, no degree   \n",
       "4364          Master or professional degree   \n",
       "\n",
       "                                  Education Race_ethnicity-multi_recode  \\\n",
       "0      Master or PhD or professional degree          Non-Hispanic White   \n",
       "1      Master or PhD or professional degree          Non-Hispanic White   \n",
       "2              Associate or Bachelor degree          Non-Hispanic White   \n",
       "3     1 or more years of college, no degree          Non-Hispanic White   \n",
       "4              Associate or Bachelor degree          Non-Hispanic White   \n",
       "...                                     ...                         ...   \n",
       "4360           Associate or Bachelor degree          Non-Hispanic White   \n",
       "4361           Associate or Bachelor degree          Non-Hispanic White   \n",
       "4362           Associate or Bachelor degree          Non-Hispanic Black   \n",
       "4363  1 or more years of college, no degree          Non-Hispanic White   \n",
       "4364   Master or PhD or professional degree          Non-Hispanic White   \n",
       "\n",
       "      Immigrate-year                          Birthplace_recode  \\\n",
       "0                  0  U.S. state, territory, or outlying region   \n",
       "1                  0  U.S. state, territory, or outlying region   \n",
       "2                  0  U.S. state, territory, or outlying region   \n",
       "3                  0  U.S. state, territory, or outlying region   \n",
       "4                  0  U.S. state, territory, or outlying region   \n",
       "...              ...                                        ...   \n",
       "4360               0  U.S. state, territory, or outlying region   \n",
       "4361               0  U.S. state, territory, or outlying region   \n",
       "4362            2017                                     Africa   \n",
       "4363               0  U.S. state, territory, or outlying region   \n",
       "4364               0  U.S. state, territory, or outlying region   \n",
       "\n",
       "                Speaks_English Employment_status  Income-wages Region_recode  \\\n",
       "0     Yes, speaks only English          Employed         63000         South   \n",
       "1     Yes, speaks only English          Employed         46000         South   \n",
       "2     Yes, speaks only English          Employed         45000         South   \n",
       "3     Yes, speaks only English          Employed         55000         South   \n",
       "4     Yes, speaks only English          Employed         12000         South   \n",
       "...                        ...               ...           ...           ...   \n",
       "4360  Yes, speaks only English          Employed         40000       Midwest   \n",
       "4361  Yes, speaks only English          Employed         65000       Midwest   \n",
       "4362     Yes, speaks very well          Employed         45000       Midwest   \n",
       "4363  Yes, speaks only English          Employed           500       Midwest   \n",
       "4364  Yes, speaks only English          Employed        498000       Midwest   \n",
       "\n",
       "     Region-division_recode       Moved  Year         state  \n",
       "0        East South Central  Same house  2020     Tennessee  \n",
       "1        East South Central  Same house  2020     Tennessee  \n",
       "2        East South Central  Same house  2020     Tennessee  \n",
       "3        East South Central  Same house  2020     Tennessee  \n",
       "4        East South Central  Same house  2020     Tennessee  \n",
       "...                     ...         ...   ...           ...  \n",
       "4360     West North Central  Same house  2020  North Dakota  \n",
       "4361     West North Central  Same house  2020  North Dakota  \n",
       "4362     West North Central  Same house  2020  North Dakota  \n",
       "4363     West North Central  Same house  2020  North Dakota  \n",
       "4364     West North Central  Same house  2020  North Dakota  \n",
       "\n",
       "[4365 rows x 19 columns]"
      ]
     },
     "execution_count": 12,
     "metadata": {},
     "output_type": "execute_result"
    }
   ],
   "source": [
    "df = pd.read_excel('Wages 2020Census cleaned.xlsx')\n",
    "df"
   ]
  },
  {
   "cell_type": "code",
   "execution_count": 13,
   "id": "1fe0adb2-a9b5-46f3-9104-615fc6726ab2",
   "metadata": {},
   "outputs": [
    {
     "name": "stdout",
     "output_type": "stream",
     "text": [
      "Mean yearly income: $58,704.16\n",
      "Medianyearly income: $58,704.16\n"
     ]
    }
   ],
   "source": [
    "mean_income = df['Income-wages'].mean()\n",
    "median_income = df['Income-wages'].mean()\n",
    "print(f\"Mean yearly income: ${mean_income:,.2f}\")\n",
    "print(f\"Median yearly income: ${median_income:,.2f}\") # https://stackoverflow.com/questions/29623171/simple-prediction-using-linear-regression-with-python"
   ]
  },
  {
   "cell_type": "markdown",
   "id": "cbbd0193-ff30-4485-a175-6c836db9d613",
   "metadata": {},
   "source": [
    "# b)"
   ]
  },
  {
   "cell_type": "code",
   "execution_count": 14,
   "id": "aefdc017-73d8-48e9-b623-df5cd0198141",
   "metadata": {},
   "outputs": [
    {
     "name": "stdout",
     "output_type": "stream",
     "text": [
      "Standard Deviation of yearly income: $68,338.06\n",
      "Variance of yearly income: $4,670,090,640.72\n"
     ]
    }
   ],
   "source": [
    "std_dev = df['Income-wages'].std()\n",
    "variance = df['Income-wages'].var()\n",
    "print(f\"Standard Deviation of yearly income: ${std_dev:,.2f}\")\n",
    "print(f\"Variance of yearly income: ${variance:,.2f}\") # https://stackoverflow.com/questions/29623171/simple-prediction-using-linear-regression-with-python"
   ]
  },
  {
   "cell_type": "markdown",
   "id": "1c9002a3-b9d2-46c3-8127-0cd8f262423d",
   "metadata": {},
   "source": [
    " # c)"
   ]
  },
  {
   "cell_type": "code",
   "execution_count": 15,
   "id": "351033ee-9608-425e-978f-acb44350109c",
   "metadata": {},
   "outputs": [
    {
     "name": "stdout",
     "output_type": "stream",
     "text": [
      "Standard deviation with no variability: 0\n",
      "IQR with no variability: 0\n"
     ]
    }
   ],
   "source": [
    "no_variability_std_dev = 0 \n",
    "no_variability_IQR = 0\n",
    "print(f\"Standard deviation with no variability: {no_variability_std_dev}\")\n",
    "print(f\"IQR with no variability: {no_variability_IQR}\") # https://stackoverflow.com/questions/29623171/simple-prediction-using-linear-regression-with-python"
   ]
  },
  {
   "cell_type": "markdown",
   "id": "bf2201a4-3846-49f5-9759-1f8a95b47c34",
   "metadata": {},
   "source": [
    "# d)"
   ]
  },
  {
   "cell_type": "code",
   "execution_count": 20,
   "id": "d9f49358-d41f-4c39-9be3-8115f9dc9aef",
   "metadata": {},
   "outputs": [
    {
     "name": "stdout",
     "output_type": "stream",
     "text": [
      "Mean income: $58,704.16\n",
      "Median income: $41,000.00\n",
      "Q1: $22,000.00\n",
      "Q3: $71,000.00\n",
      "Minimum income: $30.00\n",
      "Maximum: $661,000.00\n"
     ]
    }
   ],
   "source": [
    "no_variability_mean = df['Income-wages'].mean()\n",
    "no_variability_median = df['Income-wages'].median()\n",
    "no_variability_min = df['Income-wages'].min()\n",
    "no_variability_max = df['Income-wages'].max()\n",
    "no_variability_Q1 = df['Income-wages'].quantile(0.25)\n",
    "no_variability_Q3 = df['Income-wages'].quantile(0.75)\n",
    "print(f\"Mean income: ${no_variability_mean:,.2f}\")\n",
    "print(f\"Median income: ${no_variability_median:,.2f}\")\n",
    "print(f\"Q1: ${no_variability_Q1:,.2f}\")\n",
    "print(f\"Q3: ${no_variability_Q3:,.2f}\")\n",
    "print(f\"Minimum income: ${no_variability_min:,.2f}\")\n",
    "print(f\"Maximum: ${no_variability_max:,.2f}\")"
   ]
  },
  {
   "cell_type": "markdown",
   "id": "f254cbfa-d1c6-4cba-bbdb-ff73b2d9e33e",
   "metadata": {},
   "source": [
    "# e)"
   ]
  },
  {
   "cell_type": "code",
   "execution_count": 21,
   "id": "96694077-0bf7-401e-977e-f307e5719464",
   "metadata": {},
   "outputs": [],
   "source": [
    "import seaborn as sns\n",
    "import matplotlib.pyplot as plt"
   ]
  },
  {
   "cell_type": "code",
   "execution_count": 22,
   "id": "3c15bd0b-43d7-4113-a6f6-beb9345f5525",
   "metadata": {},
   "outputs": [
    {
     "data": {
      "image/png": "[encoded data removed]",
      "text/plain": [
       "<Figure size 1000x600 with 1 Axes>"
      ]
     },
     "metadata": {},
     "output_type": "display_data"
    }
   ],
   "source": [
    "plt.figure(figsize = (10,6))\n",
    "sns.boxplot(data = df , x = 'Education',y = 'Income-wages')\n",
    "plt.title('Income distribution for Education Level')\n",
    "plt.xticks(rotation = 45)\n",
    "plt.show() # https://stackoverflow.com/questions/29623171/simple-prediction-using-linear-regression-with-python"
   ]
  },
  {
   "cell_type": "code",
   "execution_count": 23,
   "id": "2ffa9a81-73ab-44b1-afd5-54287497cd12",
   "metadata": {},
   "outputs": [
    {
     "data": {
      "image/png": "[encoded data removed]",
      "text/plain": [
       "<Figure size 1000x600 with 1 Axes>"
      ]
     },
     "metadata": {},
     "output_type": "display_data"
    }
   ],
   "source": [
    "\n",
    "plt.figure(figsize = (10,6))\n",
    "sns.boxplot(data = df , x = 'Region-division_recode',y = 'Income-wages')\n",
    "plt.title('Income distribution by region')\n",
    "plt.xticks(rotation = 45)\n",
    "plt.show()"
   ]
  },
  {
   "cell_type": "code",
   "execution_count": 24,
   "id": "c41ad109-b9eb-4687-aeae-88c7c813d0b1",
   "metadata": {
    "scrolled": true
   },
   "outputs": [
    {
     "name": "stdout",
     "output_type": "stream",
     "text": [
      "Income statistics by Education level:\n",
      "                                        count           mean            std  \\\n",
      "Education                                                                     \n",
      "1 or more years of college, no degree   940.0   43912.872340   43801.946631   \n",
      "Associate or Bachelor degree           1521.0   66324.260355   68490.580580   \n",
      "HS diploma or GED                       990.0   39983.646465   39070.521919   \n",
      "Master or PhD or professional degree    613.0  106567.928222  108705.990391   \n",
      "Some schooling, no HS diploma           301.0   30486.478405   37496.119642   \n",
      "\n",
      "                                         min      25%      50%       75%  \\\n",
      "Education                                                                  \n",
      "1 or more years of college, no degree  180.0  17500.0  34400.0   58000.0   \n",
      "Associate or Bachelor degree           300.0  30000.0  50000.0   80000.0   \n",
      "HS diploma or GED                       30.0  18000.0  32000.0   50000.0   \n",
      "Master or PhD or professional degree   320.0  48000.0  76000.0  120000.0   \n",
      "Some schooling, no HS diploma          230.0  10000.0  24000.0   40000.0   \n",
      "\n",
      "                                            max  \n",
      "Education                                        \n",
      "1 or more years of college, no degree  475000.0  \n",
      "Associate or Bachelor degree           661000.0  \n",
      "HS diploma or GED                      565000.0  \n",
      "Master or PhD or professional degree   661000.0  \n",
      "Some schooling, no HS diploma          331000.0  \n",
      "\n",
      "Income statistics by Region:\n",
      "                        count          mean           std     min      25%  \\\n",
      "Region-division_recode                                                       \n",
      "East North Central      667.0  50336.671664  51150.259626   200.0  18900.0   \n",
      "East South Central      228.0  46034.035088  47965.766862   960.0  18875.0   \n",
      "Middle Atlantic         552.0  72220.271739  97430.213061    30.0  26750.0   \n",
      "Mountain                371.0  54616.981132  62766.460811   400.0  21000.0   \n",
      "New England             191.0  72375.392670  66682.420722  3000.0  31100.0   \n",
      "Pacific                 655.0  71916.900763  86238.126017   230.0  25000.0   \n",
      "South Atlantic          870.0  53207.850575  54742.961690   260.0  20800.0   \n",
      "West North Central      300.0  50169.466667  48874.796629   500.0  23875.0   \n",
      "West South Central      531.0  56071.431262  61553.993778   330.0  22000.0   \n",
      "\n",
      "                            50%      75%       max  \n",
      "Region-division_recode                              \n",
      "East North Central      40000.0  65000.0  433000.0  \n",
      "East South Central      36200.0  55000.0  458000.0  \n",
      "Middle Atlantic         50000.0  83000.0  661000.0  \n",
      "Mountain                40000.0  68000.0  476000.0  \n",
      "New England             53000.0  90000.0  372000.0  \n",
      "Pacific                 48300.0  84000.0  565000.0  \n",
      "South Atlantic          40000.0  68000.0  475000.0  \n",
      "West North Central      40000.0  60250.0  498000.0  \n",
      "West South Central      39000.0  70500.0  472000.0  \n"
     ]
    }
   ],
   "source": [
    "education_income_stats = df.groupby('Education')['Income-wages'].describe()\n",
    "region_income_stats = df.groupby('Region-division_recode')['Income-wages'].describe()\n",
    "print('Income statistics by Education level:')\n",
    "print(education_income_stats)\n",
    "print('\\nIncome statistics by Region:')\n",
    "print(region_income_stats)"
   ]
  },
  {
   "cell_type": "code",
   "execution_count": null,
   "id": "95cdcdfa-dd46-45d5-adb0-a5ed0f374feb",
   "metadata": {},
   "outputs": [],
   "source": []
  }
 ],
 "metadata": {
  "kernelspec": {
   "display_name": "Python 3 (ipykernel)",
   "language": "python",
   "name": "python3"
  },
  "language_info": {
   "codemirror_mode": {
    "name": "ipython",
    "version": 3
   },
   "file_extension": ".py",
   "mimetype": "text/x-python",
   "name": "python",
   "nbconvert_exporter": "python",
   "pygments_lexer": "ipython3",
   "version": "3.12.4"
  }
 },
 "nbformat": 4,
 "nbformat_minor": 5
}
